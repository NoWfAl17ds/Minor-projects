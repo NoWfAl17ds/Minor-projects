{
  "nbformat": 4,
  "nbformat_minor": 0,
  "metadata": {
    "colab": {
      "provenance": [],
      "name": "Simple Calculator.ipynb",
      "authorship_tag": "ABX9TyMlgthrzpUUMO2P6GFFJTBR",
      "include_colab_link": true
    },
    "kernelspec": {
      "name": "python3",
      "display_name": "Python 3"
    },
    "language_info": {
      "name": "python"
    }
  },
  "cells": [
    {
      "cell_type": "markdown",
      "metadata": {
        "id": "view-in-github",
        "colab_type": "text"
      },
      "source": [
        "<a href=\"https://colab.research.google.com/github/NoWfAl17ds/SIMPLE-CALCULATOR/blob/main/Simple_Calculator.ipynb\" target=\"_parent\"><img src=\"https://colab.research.google.com/assets/colab-badge.svg\" alt=\"Open In Colab\"/></a>"
      ]
    },
    {
      "cell_type": "code",
      "execution_count": null,
      "metadata": {
        "colab": {
          "base_uri": "https://localhost:8080/"
        },
        "id": "V04y86NC3hXg",
        "outputId": "c3e3bc82-26b8-46c6-f8d1-eeac3df5e999"
      },
      "outputs": [
        {
          "output_type": "stream",
          "name": "stdout",
          "text": [
            "Select operation:\n",
            "1. Addition\n",
            "2. Subtraction\n",
            "3. Multiplication\n",
            "4. Division\n",
            "Enter choice(1/2/3/4): 1\n",
            "Enter first number: 12\n",
            "Enter second number: 32\n",
            "12.0 + 32.0 = 44.0\n",
            "Do you want to continue calculation (yes/no): yes\n",
            "Enter choice(1/2/3/4): 4\n",
            "Enter first number: 4\n",
            "Enter second number: 8\n",
            "4.0 / 8.0 = 0.5\n",
            "Do you want to continue calculation (yes/no): no\n",
            "Exiting the calculator\n"
          ]
        }
      ],
      "source": [
        " def add(x, y):\n",
        "    return x + y\n",
        "\n",
        "def subtract(x, y):\n",
        "    return x - y\n",
        "\n",
        "def multiply(x, y):\n",
        "    return x * y\n",
        "\n",
        "def divide(x, y):\n",
        "    if y == 0:\n",
        "        return 'Error! Division by zero is not allowed.'\n",
        "    else:\n",
        "        return x / y\n",
        "\n",
        "print(\"Select operation:\")\n",
        "print(\"1. Addition\")\n",
        "print(\"2. Subtraction\")\n",
        "print(\"3. Multiplication\")\n",
        "print(\"4. Division\")\n",
        "\n",
        "while True:\n",
        "    choice = input(\"Enter choice(1/2/3/4): \")\n",
        "\n",
        "    if choice in ('1', '2', '3', '4'):\n",
        "        num1 = float(input(\"Enter first number: \"))\n",
        "        num2 = float(input(\"Enter second number: \"))\n",
        "\n",
        "        if choice == '1':\n",
        "            print(num1, \"+\", num2, \"=\", add(num1, num2))\n",
        "\n",
        "        elif choice == '2':\n",
        "            print(num1, \"-\", num2, \"=\", subtract(num1, num2))\n",
        "\n",
        "        elif choice == '3':\n",
        "            print(num1, \"*\", num2, \"=\", multiply(num1, num2))\n",
        "\n",
        "        elif choice == '4':\n",
        "            print(num1, \"/\", num2, \"=\", divide(num1, num2))\n",
        "\n",
        "        next_calculation = input(\"Do you want to continue calculation (yes/no): \")\n",
        "        if next_calculation == \"no\":\n",
        "          print(\"Exiting the calculator\")\n",
        "          break\n",
        "\n",
        "    else:\n",
        "        print(\"Invalid Input\")"
      ]
    }
  ]
}