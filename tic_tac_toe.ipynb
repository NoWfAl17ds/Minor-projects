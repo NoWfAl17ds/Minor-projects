{
  "nbformat": 4,
  "nbformat_minor": 0,
  "metadata": {
    "colab": {
      "provenance": [],
      "authorship_tag": "ABX9TyNqpfznKhHjAGpoXJbOX0EW",
      "include_colab_link": true
    },
    "kernelspec": {
      "name": "python3",
      "display_name": "Python 3"
    },
    "language_info": {
      "name": "python"
    }
  },
  "cells": [
    {
      "cell_type": "markdown",
      "metadata": {
        "id": "view-in-github",
        "colab_type": "text"
      },
      "source": [
        "<a href=\"https://colab.research.google.com/github/NoWfAl17ds/Minor-projects/blob/main/tic_tac_toe.ipynb\" target=\"_parent\"><img src=\"https://colab.research.google.com/assets/colab-badge.svg\" alt=\"Open In Colab\"/></a>"
      ]
    },
    {
      "cell_type": "code",
      "execution_count": 1,
      "metadata": {
        "colab": {
          "base_uri": "https://localhost:8080/"
        },
        "id": "dwxAb3s25rC0",
        "outputId": "cd065d25-1283-4fa6-c28f-f3ee97f6ea86"
      },
      "outputs": [
        {
          "output_type": "stream",
          "name": "stdout",
          "text": [
            "  |   |  \n",
            "---------\n",
            "  |   |  \n",
            "---------\n",
            "  |   |  \n",
            "Player X, enter your move (1-9): 1\n",
            "X |   |  \n",
            "---------\n",
            "  |   |  \n",
            "---------\n",
            "  |   |  \n",
            "Player O, enter your move (1-9): 2\n",
            "X | O |  \n",
            "---------\n",
            "  |   |  \n",
            "---------\n",
            "  |   |  \n",
            "Player X, enter your move (1-9): 5\n",
            "X | O |  \n",
            "---------\n",
            "  | X |  \n",
            "---------\n",
            "  |   |  \n",
            "Player O, enter your move (1-9): 6\n",
            "X | O |  \n",
            "---------\n",
            "  | X | O\n",
            "---------\n",
            "  |   |  \n",
            "Player X, enter your move (1-9): 9\n",
            "X | O |  \n",
            "---------\n",
            "  | X | O\n",
            "---------\n",
            "  |   | X\n",
            "Player X wins!\n"
          ]
        }
      ],
      "source": [
        "def print_board(board):\n",
        "    print(f'{board[0]} | {board[1]} | {board[2]}')\n",
        "    print('---------')\n",
        "    print(f'{board[3]} | {board[4]} | {board[5]}')\n",
        "    print('---------')\n",
        "    print(f'{board[6]} | {board[7]} | {board[8]}')\n",
        "\n",
        "def check_win(board, player):\n",
        "    win_conditions = [(0, 1, 2), (3, 4, 5), (6, 7, 8), (0, 3, 6), (1, 4, 7), (2, 5, 8), (0, 4, 8), (2, 4, 6)]\n",
        "    for condition in win_conditions:\n",
        "        if board[condition[0]] == board[condition[1]] == board[condition[2]] == player:\n",
        "            return True\n",
        "    return False\n",
        "\n",
        "def check_draw(board):\n",
        "    return ' ' not in board\n",
        "\n",
        "def main():\n",
        "    board = [' '] * 9\n",
        "    current_player = 'X'\n",
        "    while True:\n",
        "        print_board(board)\n",
        "        move = input(f\"Player {current_player}, enter your move (1-9): \")\n",
        "        if not move.isdigit() or int(move) < 1 or int(move) > 9 or board[int(move) - 1] != ' ':\n",
        "            print(\"Invalid move. Try again.\")\n",
        "            continue\n",
        "        board[int(move) - 1] = current_player\n",
        "        if check_win(board, current_player):\n",
        "            print_board(board)\n",
        "            print(f\"Player {current_player} wins!\")\n",
        "            break\n",
        "        elif check_draw(board):\n",
        "            print_board(board)\n",
        "            print(\"It's a draw!\")\n",
        "            break\n",
        "        else:\n",
        "            current_player = 'O' if current_player == 'X' else 'X'\n",
        "\n",
        "if __name__ == \"__main__\":\n",
        "    main()"
      ]
    }
  ]
}